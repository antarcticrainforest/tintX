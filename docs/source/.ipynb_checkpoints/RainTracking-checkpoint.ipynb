{
 "cells": [
  {
   "cell_type": "markdown",
   "metadata": {},
   "source": [
    "# Example I: Tracking radar data\n",
    "\n",
    "In this example notebook we are going to track rain-rates that we estimated from radar based refelectivities. The rain-rates is an example dataset from the CPOL radar archive that used to operate north of Darwin Australia. This example dataset has been provided by Valentin Louf from the Australian Bureau of Metorology.\n",
    "\n",
    "A more detailed example of the application of the tracking algorithm can be found in [doi: 10.1002/qj.4360](https://rmets.onlinelibrary.wiley.com/doi/abs/10.1002/qj.4360)\n",
    "\n",
    "Before we get started we import all modules that are needed to apply the tracking"
   ]
  },
  {
   "cell_type": "code",
   "execution_count": null,
   "metadata": {
    "scrolled": false
   },
   "outputs": [],
   "source": [
    "%matplotlib inline\n",
    "from pathlib import Path\n",
    "import pandas as pd\n",
    "import xarray as xr\n",
    "from tintx import RunDirectory, config\n",
    "from IPython.display import HTML"
   ]
  },
  {
   "cell_type": "markdown",
   "metadata": {},
   "source": [
    "In this example we want to apply the tracking algorithm only for a limited time period. Such time periods can be given as string or `datetime` objects. If defined as a string make sure they follow the [ISO 8061](https://en.wikipedia.org/wiki/ISO_8601) convention."
   ]
  },
  {
   "cell_type": "code",
   "execution_count": null,
   "metadata": {},
   "outputs": [],
   "source": [
    "first = '2006-11-16 03:00' #Start-date\n",
    "last = '2006-11-16 11:00' #End-date"
   ]
  },
  {
   "cell_type": "markdown",
   "metadata": {},
   "source": [
    "To apply the tracking we create an instance of the `RunDirectory` class. Normally we would have to create this instance with a `xarray.DataArray`. The `from_files` method is a convenience method that allows us to create this instance without opening a dataset. The method will open the data files and create an object. We we will have to provied are filename(s) or a list of files the name of the variable and if not according to cf conventions the names of the *longitude*, *latitude* and *time* dimensions:"
   ]
  },
  {
   "cell_type": "code",
   "execution_count": null,
   "metadata": {},
   "outputs": [],
   "source": [
    "RD = RunDirectory.from_files(\"_static/data/CPOL*.nc\", \"radar_estimated_rain_rate\",\n",
    "                             start=first, end=last, use_cftime=True, x_coord=\"longitude\", y_coord=\"latitude\")"
   ]
  },
  {
   "cell_type": "markdown",
   "metadata": {},
   "source": [
    "Additional keyword arguments can be added to the `xarray.open_mfdataset` method. In this example we used the `use_cftime` keyword to convert the time variable to cftime vectors."
   ]
  },
  {
   "cell_type": "markdown",
   "metadata": {},
   "source": [
    "### The tuning paramters\n",
    "To apply the actual tracking algorithm we can use the `get_tracks` method. The algorithm can be tuned by passing the values for the tuning parameters. See also the [tuning parameter section](api.html#tracking-parameter-guide) of the docs"
   ]
  },
  {
   "cell_type": "code",
   "execution_count": null,
   "metadata": {},
   "outputs": [],
   "source": [
    "print(config.__doc__)"
   ]
  },
  {
   "cell_type": "markdown",
   "metadata": {},
   "source": [
    "Apply the tracking with a rain-rate threshold of 0.001 and a minimum size of 4. The return value of the function will be the total number of individual storms identified by the alogorithm"
   ]
  },
  {
   "cell_type": "code",
   "execution_count": null,
   "metadata": {},
   "outputs": [],
   "source": [
    "num_cells = RD.get_tracks(field_thresh=0.001, min_size=4)\n",
    "print(f\"Number of storm cells found: {num_cells}\")"
   ]
  },
  {
   "cell_type": "markdown",
   "metadata": {},
   "source": [
    "### Accessing the track data\n",
    "The actual tracking data is stored in mulit-index a [pandas.DataFrame](https://pandas.pydata.org/pandas-docs/stable/reference/api/pandas.MultiIndex.html) and can be accessed via the `tracks` property:"
   ]
  },
  {
   "cell_type": "code",
   "execution_count": null,
   "metadata": {},
   "outputs": [],
   "source": [
    "RD.tracks"
   ]
  },
  {
   "cell_type": "markdown",
   "metadata": {},
   "source": [
    "## Displaying the results\n",
    "Let's do some visualisation and create an animation of the tracks. This can be done by calling the `animate` method.\n",
    "**Note:** To convert possibel utc time strings to local time we can give a time shift (`dt`) in hours. The plot styling can be fine tuned by the `plot_style` key word"
   ]
  },
  {
   "cell_type": "code",
   "execution_count": null,
   "metadata": {
    "scrolled": false
   },
   "outputs": [],
   "source": [
    "anim = RD.animate(dt=9.5, fps=2, plot_style=dict(resolution=\"10m\", title=\"Rain-rate\"))"
   ]
  },
  {
   "cell_type": "markdown",
   "metadata": {},
   "source": [
    "The return value is a [matplotlib `FuncAnimation` Object](https://matplotlib.org/stable/api/_as_gen/matplotlib.animation.FuncAnimation.html). The animation can be save or displayed in a notbook:"
   ]
  },
  {
   "cell_type": "code",
   "execution_count": null,
   "metadata": {},
   "outputs": [],
   "source": [
    "HTML(anim.to_html5_video())"
   ]
  },
  {
   "cell_type": "markdown",
   "metadata": {},
   "source": [
    "It is also possible to save the animation to a file"
   ]
  },
  {
   "cell_type": "markdown",
   "metadata": {
    "scrolled": false
   },
   "source": [
    "```python\n",
    "anim.save(\"cpol_tracking.gif\", fps=3)\n",
    "```"
   ]
  },
  {
   "cell_type": "markdown",
   "metadata": {},
   "source": [
    "The traces of the tracks can also be plotted using the `plot_trajectories` method:"
   ]
  },
  {
   "cell_type": "code",
   "execution_count": null,
   "metadata": {},
   "outputs": [],
   "source": [
    "RD.plot_trajectories()"
   ]
  },
  {
   "cell_type": "markdown",
   "metadata": {},
   "source": [
    "### Saving the tracks for later analysis:\n",
    "we can use pandas to save the track data and do a more in depth analysis on the storm systems later. The data can then also be loaded using pandas."
   ]
  },
  {
   "cell_type": "code",
   "execution_count": null,
   "metadata": {},
   "outputs": [],
   "source": [
    "RD.tracks.to_hdf('/tmp/tint_tracks.h5', 'tracks')\n",
    "table = pd.read_hdf('/tmp/tint_tracks.h5', 'tracks')\n",
    "table.head()"
   ]
  },
  {
   "cell_type": "code",
   "execution_count": null,
   "metadata": {},
   "outputs": [],
   "source": []
  },
  {
   "cell_type": "markdown",
   "metadata": {},
   "source": [
    "# Example II: Tracking satellite data\n",
    "\n",
    "## Applying the tracking with a dataset that has already been read\n",
    "\n",
    "Sometimes data needs to be processed first. For example if derived variables like (density potential temperature) are applied to the tracking, or data needs to be remapped first. In this scenario you would create the netCDF dataset yourself, rather then letting the code load the data, and apply the tracking on the dataset. Below is an example:"
   ]
  },
  {
   "cell_type": "code",
   "execution_count": null,
   "metadata": {},
   "outputs": [],
   "source": [
    "# Read satellite based rainfall estimates and select a sub region.\n",
    "files = [str(f) for f in Path('.').rglob('CMORPH*.nc')]\n",
    "# Select a box around the Maritime Continent\n",
    "dset = xr.open_mfdataset(sorted(files), combine='by_coords').sel(lon=slice(100, 160), lat=slice(-13, 13))\n",
    "dset"
   ]
  },
  {
   "cell_type": "markdown",
   "metadata": {},
   "source": [
    "We can now simply create a `RunDicrectory` object by directly initialising the class: "
   ]
  },
  {
   "cell_type": "code",
   "execution_count": null,
   "metadata": {},
   "outputs": [],
   "source": [
    "RD = RunDirectory(\"cmorph\", dset.isel(time=slice(0, 20)))"
   ]
  },
  {
   "cell_type": "markdown",
   "metadata": {},
   "source": [
    "Once the object has be created the cells can be tracked and plotted as bfore (with a little more tuning):"
   ]
  },
  {
   "cell_type": "code",
   "execution_count": null,
   "metadata": {},
   "outputs": [],
   "source": [
    "num_cells = RD.get_tracks(min_size=8,\n",
    "                          field_thresh=3, \n",
    "                          iso_thresh=10,\n",
    "                          iso_smoth=10,\n",
    "                          search_margin=8750,\n",
    "                          flow_margin=1750,\n",
    "                          max_disparity=999,\n",
    "                          max_flow_mag=5000,\n",
    "                          max_shift_disp=1000,\n",
    "                         )\n",
    "print(f\"Number of storm cells found: {num_cells}\")"
   ]
  },
  {
   "cell_type": "code",
   "execution_count": null,
   "metadata": {},
   "outputs": [],
   "source": [
    "RD.tracks.head()"
   ]
  },
  {
   "cell_type": "code",
   "execution_count": null,
   "metadata": {},
   "outputs": [],
   "source": [
    "ax = RD.plot_trajectories(plot_style={\"resolution\": \"10m\", \"ms\": 15},\n",
    "                          label=True,\n",
    "                          mintrace=5\n",
    ")"
   ]
  }
 ],
 "metadata": {
  "kernelspec": {
   "display_name": "plotting",
   "language": "python",
   "name": "plotting"
  },
  "language_info": {
   "codemirror_mode": {
    "name": "ipython",
    "version": 3
   },
   "file_extension": ".py",
   "mimetype": "text/x-python",
   "name": "python",
   "nbconvert_exporter": "python",
   "pygments_lexer": "ipython3",
   "version": "3.10.4"
  },
  "widgets": {
   "application/vnd.jupyter.widget-state+json": {
    "state": {},
    "version_major": 2,
    "version_minor": 0
   }
  }
 },
 "nbformat": 4,
 "nbformat_minor": 4
}
