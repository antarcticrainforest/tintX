{
 "cells": [
  {
   "cell_type": "markdown",
   "id": "8061b49e",
   "metadata": {},
   "source": [
    "<h1>TintX (Tint is not TITAN) tracking algorithm tutorial</h1>\n",
    "<h6  style=\"font-size: large;\"><center>\n",
    "You have made it to the TintX usage tutorial which consists of a collection of notebooks demonstrating the basic usage of the tintx package.\n",
    "</center>\n",
    "</h6>\n",
    "\n",
    "<h3>Basic Tutorials:</h3>\n",
    "<h6>\n",
    "<center>Click one of the following links below for a basic usage example:</center><br>\n",
    "</h6>\n",
    "<p>\n",
    "<ul>\n",
    "\n",
    "<li><a href=\"I_Tracking_data_from_files.ipynb\" target=_blank>Example I</a> demonstrates the application of the tracking algorithm to data files</li>\n",
    "<li><a href=\"II_Tracking_already_loaded_datasets.ipynb\" target=_blank>Example II</a> demonstrates the application of the tracking algorithm to data that has already been loaded</li>\n",
    "<li><a href=\"III_Using_the_command_line_interface.ipynb\" target=_blank>Example III</a> explains the usage of the Command line interface.</li>\n",
    "</ul>\n",
    "</p>"
   ]
  }
 ],
 "metadata": {
  "kernelspec": {
   "display_name": "tintX kernel",
   "language": "python",
   "name": "tintx"
  },
  "language_info": {
   "codemirror_mode": {
    "name": "ipython",
    "version": 3
   },
   "file_extension": ".py",
   "mimetype": "text/x-python",
   "name": "python",
   "nbconvert_exporter": "python",
   "pygments_lexer": "ipython3",
   "version": "3.10.4"
  }
 },
 "nbformat": 4,
 "nbformat_minor": 5
}
